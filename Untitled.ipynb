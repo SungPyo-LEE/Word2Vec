{
 "cells": [
  {
   "cell_type": "code",
   "execution_count": 5,
   "metadata": {},
   "outputs": [],
   "source": [
    "def made1(X):\n",
    "    cnt=0\n",
    "    while X>1:\n",
    "        if X%3==0:\n",
    "            X=X/3\n",
    "            cnt+=1\n",
    "        elif X%2==0:\n",
    "            X=X/2\n",
    "            cnt+=1\n",
    "        else:\n",
    "            X-=1\n",
    "            cnt+=1\n",
    "    return cnt"
   ]
  },
  {
   "cell_type": "code",
   "execution_count": 11,
   "metadata": {},
   "outputs": [
    {
     "name": "stdout",
     "output_type": "stream",
     "text": [
      "30\n",
      "4\n"
     ]
    }
   ],
   "source": [
    "a = int(input())\n",
    "count = 0\n",
    "minimum=[a]\n",
    "def cal(a):\n",
    "    list = []\n",
    "    for i in a:\n",
    "        list.append(i-1)\n",
    "        if i%3 == 0:\n",
    "            list.append(i/3)\n",
    "        if i%2 == 0:\n",
    "            list.append(i/2)\n",
    "    return list\n",
    " \n",
    "while True:\n",
    "    if a == 1:\n",
    "        print(count)\n",
    "        break\n",
    "    temp = minimum[:]\n",
    "    minimum = []\n",
    "    minimum = cal(temp)\n",
    "    count +=1\n",
    "    if min(minimum) == 1:\n",
    "        print(count)\n",
    "        break"
   ]
  },
  {
   "cell_type": "code",
   "execution_count": null,
   "metadata": {},
   "outputs": [
    {
     "name": "stdout",
     "output_type": "stream",
     "text": [
      "50\n",
      "50\n",
      "7778742049 12586269025\n",
      "10\n",
      "34 55\n",
      "10\n",
      "34 55\n"
     ]
    }
   ],
   "source": [
    "a = int(input())\n",
    " \n",
    "zero = [1,0,1]\n",
    "one = [0,1,1]\n",
    " \n",
    "def cal(num):\n",
    "    length = len(zero)\n",
    "    if length <= num:\n",
    "        for i in range(length,num+1):\n",
    "            zero.append(zero[i-1]+zero[i-2])\n",
    "            one.append(one[i-1]+one[i-2])\n",
    "    print(\"%d %d\"%(zero[num],one[num]))\n",
    "\n",
    "    \n",
    "    \n",
    "for i in range(a):\n",
    "    k = int(input())\n",
    "    cal(k)\n",
    "    "
   ]
  }
 ],
 "metadata": {
  "kernelspec": {
   "display_name": "Python 3",
   "language": "python",
   "name": "python3"
  },
  "language_info": {
   "codemirror_mode": {
    "name": "ipython",
    "version": 3
   },
   "file_extension": ".py",
   "mimetype": "text/x-python",
   "name": "python",
   "nbconvert_exporter": "python",
   "pygments_lexer": "ipython3",
   "version": "3.7.3"
  }
 },
 "nbformat": 4,
 "nbformat_minor": 2
}
