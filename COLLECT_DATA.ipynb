{
 "cells": [
  {
   "cell_type": "code",
   "execution_count": 17,
   "metadata": {},
   "outputs": [],
   "source": [
    "from selenium import webdriver\n",
    "from bs4 import BeautifulSoup\n",
    "\n",
    "driver=webdriver.Chrome('chromedriver')\n",
    "driver.get('http://abpat.kipris.or.kr/abpat/searchLogina.do?next=MainSearch#page1')\n",
    "\n"
   ]
  },
  {
   "cell_type": "code",
   "execution_count": 19,
   "metadata": {},
   "outputs": [],
   "source": [
    "elem_login=driver.find_element_by_id(\"queryText\")\n",
    "elem_login.clear()\n",
    "elem_login.send_keys(\"반도체*특허\")\n",
    "\n",
    "xpath=\"\"\"//*[@id=\"SearchPara\"]/fieldset/span[1]/a/img\"\"\"\n",
    "\n",
    "e=driver.find_element_by_xpath(xpath)\n",
    "\n",
    "e.click()"
   ]
  },
  {
   "cell_type": "code",
   "execution_count": 20,
   "metadata": {},
   "outputs": [],
   "source": [
    "xpath=\"\"\"//*[@id=\"divDetailBtnAreaJP,000006555332B2\"]/a[2]/img\"\"\"\n",
    "e=driver.find_element_by_xpath(xpath)\n",
    "\n",
    "e.click()"
   ]
  },
  {
   "cell_type": "code",
   "execution_count": 23,
   "metadata": {},
   "outputs": [],
   "source": [
    "html='http://abpat.kipris.or.kr/abpat/biblioa.do?method=biblioFrame'\n",
    "soup=BeautifulSoup(html, 'html.parser')\n",
    "soup.find(\"div\", class_='snb_scorll')"
   ]
  }
 ],
 "metadata": {
  "kernelspec": {
   "display_name": "Python 3",
   "language": "python",
   "name": "python3"
  },
  "language_info": {
   "codemirror_mode": {
    "name": "ipython",
    "version": 3
   },
   "file_extension": ".py",
   "mimetype": "text/x-python",
   "name": "python",
   "nbconvert_exporter": "python",
   "pygments_lexer": "ipython3",
   "version": "3.7.3"
  }
 },
 "nbformat": 4,
 "nbformat_minor": 2
}
